{
 "cells": [
  {
   "cell_type": "markdown",
   "id": "dc6d4d4e",
   "metadata": {},
   "source": [
    "# Modeling & Evaluation\n",
    "\n",
    "Goal: Build predictive models for Canadian salaries using survey data.  \n",
    "We will:\n",
    "1. Prepare features and target\n",
    "2. Train/test split\n",
    "3. Train multiple models (linear regression, random forest, gradient boosting)\n",
    "4. Evaluate with R², MAE, RMSE\n",
    "5. Compare results and select the best-performing model\n"
   ]
  },
  {
   "cell_type": "code",
   "execution_count": 12,
   "id": "c24ac44b",
   "metadata": {},
   "outputs": [],
   "source": [
    "# Imports\n",
    "import pandas as pd\n",
    "import numpy as np\n",
    "import matplotlib.pyplot as plt\n",
    "import seaborn as sns\n",
    "\n",
    "from sklearn.model_selection import train_test_split\n",
    "from sklearn.preprocessing import OneHotEncoder\n",
    "from sklearn.compose import ColumnTransformer\n",
    "from sklearn.pipeline import Pipeline\n",
    "from sklearn.metrics import r2_score, mean_absolute_error, mean_squared_error\n",
    "\n",
    "from sklearn.linear_model import LinearRegression\n",
    "from sklearn.ensemble import RandomForestRegressor, GradientBoostingRegressor"
   ]
  },
  {
   "cell_type": "code",
   "execution_count": 13,
   "id": "ff728f0e",
   "metadata": {},
   "outputs": [
    {
     "data": {
      "text/html": [
       "<div>\n",
       "<style scoped>\n",
       "    .dataframe tbody tr th:only-of-type {\n",
       "        vertical-align: middle;\n",
       "    }\n",
       "\n",
       "    .dataframe tbody tr th {\n",
       "        vertical-align: top;\n",
       "    }\n",
       "\n",
       "    .dataframe thead th {\n",
       "        text-align: right;\n",
       "    }\n",
       "</style>\n",
       "<table border=\"1\" class=\"dataframe\">\n",
       "  <thead>\n",
       "    <tr style=\"text-align: right;\">\n",
       "      <th></th>\n",
       "      <th>year</th>\n",
       "      <th>company_size</th>\n",
       "      <th>industry</th>\n",
       "      <th>experience</th>\n",
       "      <th>title</th>\n",
       "      <th>country</th>\n",
       "      <th>salary_(usd)</th>\n",
       "      <th>city</th>\n",
       "      <th>log_salary</th>\n",
       "    </tr>\n",
       "  </thead>\n",
       "  <tbody>\n",
       "    <tr>\n",
       "      <th>0</th>\n",
       "      <td>2023</td>\n",
       "      <td>10 to 19 employees</td>\n",
       "      <td>Information Services, IT, Software Development...</td>\n",
       "      <td>5 to 9 years</td>\n",
       "      <td>Data scientist or machine learning specialist</td>\n",
       "      <td>Canada</td>\n",
       "      <td>52046.0</td>\n",
       "      <td>Halifax</td>\n",
       "      <td>10.859902</td>\n",
       "    </tr>\n",
       "    <tr>\n",
       "      <th>1</th>\n",
       "      <td>2023</td>\n",
       "      <td>100 to 499 employees</td>\n",
       "      <td>Manufacturing, Transportation, or Supply Chain</td>\n",
       "      <td>10 or more years</td>\n",
       "      <td>Developer, full-stack</td>\n",
       "      <td>Canada</td>\n",
       "      <td>64686.0</td>\n",
       "      <td>Montreal</td>\n",
       "      <td>11.077316</td>\n",
       "    </tr>\n",
       "    <tr>\n",
       "      <th>2</th>\n",
       "      <td>2023</td>\n",
       "      <td>20 to 99 employees</td>\n",
       "      <td>Information Services, IT, Software Development...</td>\n",
       "      <td>2 to 4 years</td>\n",
       "      <td>Developer, full-stack</td>\n",
       "      <td>Canada</td>\n",
       "      <td>59481.0</td>\n",
       "      <td>Hamilton–Niagara Peninsula</td>\n",
       "      <td>10.993429</td>\n",
       "    </tr>\n",
       "    <tr>\n",
       "      <th>3</th>\n",
       "      <td>2023</td>\n",
       "      <td>20 to 99 employees</td>\n",
       "      <td>Manufacturing, Transportation, or Supply Chain</td>\n",
       "      <td>5 to 9 years</td>\n",
       "      <td>Data or business analyst</td>\n",
       "      <td>Canada</td>\n",
       "      <td>63199.0</td>\n",
       "      <td>Halifax</td>\n",
       "      <td>11.054060</td>\n",
       "    </tr>\n",
       "    <tr>\n",
       "      <th>4</th>\n",
       "      <td>2023</td>\n",
       "      <td>100 to 499 employees</td>\n",
       "      <td>Information Services, IT, Software Development...</td>\n",
       "      <td>5 to 9 years</td>\n",
       "      <td>Developer, front-end</td>\n",
       "      <td>Canada</td>\n",
       "      <td>53533.0</td>\n",
       "      <td>Montreal</td>\n",
       "      <td>10.888072</td>\n",
       "    </tr>\n",
       "  </tbody>\n",
       "</table>\n",
       "</div>"
      ],
      "text/plain": [
       "   year          company_size  \\\n",
       "0  2023    10 to 19 employees   \n",
       "1  2023  100 to 499 employees   \n",
       "2  2023    20 to 99 employees   \n",
       "3  2023    20 to 99 employees   \n",
       "4  2023  100 to 499 employees   \n",
       "\n",
       "                                            industry        experience  \\\n",
       "0  Information Services, IT, Software Development...      5 to 9 years   \n",
       "1     Manufacturing, Transportation, or Supply Chain  10 or more years   \n",
       "2  Information Services, IT, Software Development...      2 to 4 years   \n",
       "3     Manufacturing, Transportation, or Supply Chain      5 to 9 years   \n",
       "4  Information Services, IT, Software Development...      5 to 9 years   \n",
       "\n",
       "                                           title country  salary_(usd)  \\\n",
       "0  Data scientist or machine learning specialist  Canada       52046.0   \n",
       "1                          Developer, full-stack  Canada       64686.0   \n",
       "2                          Developer, full-stack  Canada       59481.0   \n",
       "3                       Data or business analyst  Canada       63199.0   \n",
       "4                           Developer, front-end  Canada       53533.0   \n",
       "\n",
       "                         city  log_salary  \n",
       "0                     Halifax   10.859902  \n",
       "1                    Montreal   11.077316  \n",
       "2  Hamilton–Niagara Peninsula   10.993429  \n",
       "3                     Halifax   11.054060  \n",
       "4                    Montreal   10.888072  "
      ]
     },
     "execution_count": 13,
     "metadata": {},
     "output_type": "execute_result"
    }
   ],
   "source": [
    "# Load Data\n",
    "salary = pd.read_csv(\"../data/processed/canadian_salary_data_clean.csv\")\n",
    "\n",
    "# target transformation: log of salary\n",
    "salary[\"log_salary\"] = np.log1p(salary[\"salary_(usd)\"])\n",
    "salary.head()\n"
   ]
  },
  {
   "cell_type": "markdown",
   "id": "633ae645",
   "metadata": {},
   "source": [
    "## Features & Target\n",
    "We use categorical features for encoding and log_salary as target."
   ]
  },
  {
   "cell_type": "code",
   "execution_count": 14,
   "id": "ce300eab",
   "metadata": {},
   "outputs": [],
   "source": [
    "# Select features\n",
    "features = [\"experience\",\"industry\",\"city\",\"company_size\",\"year\"]\n",
    "X = salary[features]\n",
    "y = salary[\"log_salary\"]\n",
    "\n",
    "# Categorical vs numeric\n",
    "cat_features = [\"experience\",\"industry\",\"city\",\"company_size\"]\n",
    "num_features = [\"year\"]\n",
    "\n",
    "# Preprocessor\n",
    "preprocessor = ColumnTransformer([\n",
    "    (\"cat\", OneHotEncoder(handle_unknown=\"ignore\"), cat_features),\n",
    "    (\"num\", \"passthrough\", num_features)\n",
    "])"
   ]
  },
  {
   "cell_type": "markdown",
   "id": "dd4b1f64",
   "metadata": {},
   "source": [
    "## Train/Test Split"
   ]
  },
  {
   "cell_type": "code",
   "execution_count": 15,
   "id": "6e6811e1",
   "metadata": {},
   "outputs": [],
   "source": [
    "# Train/test split\n",
    "X_train, X_test, y_train, y_test = train_test_split(X, y, test_size=0.2, random_state=42)"
   ]
  },
  {
   "cell_type": "markdown",
   "id": "21be694f",
   "metadata": {},
   "source": [
    "## Model Training\n",
    "We test 3 models: Linear Regression, Random Forest, Gradient Boosting"
   ]
  },
  {
   "cell_type": "code",
   "execution_count": 16,
   "id": "cf7bcc01",
   "metadata": {},
   "outputs": [],
   "source": [
    "# Define models\n",
    "models = {\n",
    "    \"Linear Regression\": LinearRegression(),\n",
    "    \"Random Forest\": RandomForestRegressor(n_estimators=200, random_state=42),\n",
    "    \"Gradient Boosting\": GradientBoostingRegressor(n_estimators=200, random_state=42)\n",
    "}"
   ]
  },
  {
   "cell_type": "code",
   "execution_count": 17,
   "id": "8ed1c1f0",
   "metadata": {},
   "outputs": [
    {
     "name": "stderr",
     "output_type": "stream",
     "text": [
      "c:\\Users\\87114\\anaconda3\\Lib\\site-packages\\sklearn\\metrics\\_regression.py:492: FutureWarning: 'squared' is deprecated in version 1.4 and will be removed in 1.6. To calculate the root mean squared error, use the function'root_mean_squared_error'.\n",
      "  warnings.warn(\n",
      "c:\\Users\\87114\\anaconda3\\Lib\\site-packages\\sklearn\\metrics\\_regression.py:492: FutureWarning: 'squared' is deprecated in version 1.4 and will be removed in 1.6. To calculate the root mean squared error, use the function'root_mean_squared_error'.\n",
      "  warnings.warn(\n",
      "c:\\Users\\87114\\anaconda3\\Lib\\site-packages\\sklearn\\metrics\\_regression.py:492: FutureWarning: 'squared' is deprecated in version 1.4 and will be removed in 1.6. To calculate the root mean squared error, use the function'root_mean_squared_error'.\n",
      "  warnings.warn(\n"
     ]
    },
    {
     "data": {
      "text/html": [
       "<div>\n",
       "<style scoped>\n",
       "    .dataframe tbody tr th:only-of-type {\n",
       "        vertical-align: middle;\n",
       "    }\n",
       "\n",
       "    .dataframe tbody tr th {\n",
       "        vertical-align: top;\n",
       "    }\n",
       "\n",
       "    .dataframe thead th {\n",
       "        text-align: right;\n",
       "    }\n",
       "</style>\n",
       "<table border=\"1\" class=\"dataframe\">\n",
       "  <thead>\n",
       "    <tr style=\"text-align: right;\">\n",
       "      <th></th>\n",
       "      <th>Model</th>\n",
       "      <th>R²</th>\n",
       "      <th>MAE ($)</th>\n",
       "      <th>RMSE ($)</th>\n",
       "    </tr>\n",
       "  </thead>\n",
       "  <tbody>\n",
       "    <tr>\n",
       "      <th>2</th>\n",
       "      <td>Gradient Boosting</td>\n",
       "      <td>0.847007</td>\n",
       "      <td>5013.861725</td>\n",
       "      <td>7178.490034</td>\n",
       "    </tr>\n",
       "    <tr>\n",
       "      <th>1</th>\n",
       "      <td>Random Forest</td>\n",
       "      <td>0.834105</td>\n",
       "      <td>5021.447103</td>\n",
       "      <td>7457.731036</td>\n",
       "    </tr>\n",
       "    <tr>\n",
       "      <th>0</th>\n",
       "      <td>Linear Regression</td>\n",
       "      <td>0.810038</td>\n",
       "      <td>5736.381225</td>\n",
       "      <td>7876.662910</td>\n",
       "    </tr>\n",
       "  </tbody>\n",
       "</table>\n",
       "</div>"
      ],
      "text/plain": [
       "               Model        R²      MAE ($)     RMSE ($)\n",
       "2  Gradient Boosting  0.847007  5013.861725  7178.490034\n",
       "1      Random Forest  0.834105  5021.447103  7457.731036\n",
       "0  Linear Regression  0.810038  5736.381225  7876.662910"
      ]
     },
     "execution_count": 17,
     "metadata": {},
     "output_type": "execute_result"
    }
   ],
   "source": [
    "# Train & Evaluate\n",
    "results = []\n",
    "\n",
    "for name, model in models.items():\n",
    "    pipe = Pipeline(steps=[(\"preprocessor\", preprocessor),\n",
    "                           (\"model\", model)])\n",
    "    pipe.fit(X_train, y_train)\n",
    "    preds = pipe.predict(X_test)\n",
    "\n",
    "    r2 = r2_score(y_test, preds)\n",
    "    mae = mean_absolute_error(np.expm1(y_test), np.expm1(preds))\n",
    "    rmse = mean_squared_error(np.expm1(y_test), np.expm1(preds), squared=False)\n",
    "\n",
    "    results.append({\"Model\": name, \"R²\": r2, \"MAE ($)\": mae, \"RMSE ($)\": rmse})\n",
    "\n",
    "results_df = pd.DataFrame(results).sort_values(\"R²\", ascending=False)\n",
    "results_df"
   ]
  },
  {
   "cell_type": "markdown",
   "id": "acf42be4",
   "metadata": {},
   "source": [
    "## Compare Models"
   ]
  },
  {
   "cell_type": "code",
   "execution_count": 18,
   "id": "02f9397b",
   "metadata": {},
   "outputs": [
    {
     "name": "stderr",
     "output_type": "stream",
     "text": [
      "C:\\Users\\87114\\AppData\\Local\\Temp\\ipykernel_10812\\485280020.py:7: FutureWarning: \n",
      "\n",
      "Passing `palette` without assigning `hue` is deprecated and will be removed in v0.14.0. Assign the `x` variable to `hue` and set `legend=False` for the same effect.\n",
      "\n",
      "  sns.barplot(data=results_df, x=\"Model\", y=\"R²\", palette=palette, ax=ax, edgecolor=\"none\")\n",
      "C:\\Users\\87114\\AppData\\Local\\Temp\\ipykernel_10812\\485280020.py:16: FutureWarning: \n",
      "\n",
      "Passing `palette` without assigning `hue` is deprecated and will be removed in v0.14.0. Assign the `x` variable to `hue` and set `legend=False` for the same effect.\n",
      "\n",
      "  sns.barplot(data=results_df, x=\"Model\", y=\"MAE ($)\", palette=palette, ax=ax, edgecolor=\"none\")\n"
     ]
    },
    {
     "data": {
      "image/png": "[encoded data removed]",
      "text/plain": [
       "<Figure size 800x500 with 1 Axes>"
      ]
     },
     "metadata": {},
     "output_type": "display_data"
    },
    {
     "data": {
      "image/png": "[encoded data removed]",
      "text/plain": [
       "<Figure size 800x500 with 1 Axes>"
      ]
     },
     "metadata": {},
     "output_type": "display_data"
    }
   ],
   "source": [
    "# Visualization of comparison\n",
    "sns.set_theme(style=\"white\")\n",
    "\n",
    "palette = sns.color_palette([\"#1f77b4\", \"#17a589\", \"#2ca02c\"])\n",
    "\n",
    "fig, ax = plt.subplots(figsize=(8, 5))\n",
    "sns.barplot(data=results_df, x=\"Model\", y=\"R²\", palette=palette, ax=ax, edgecolor=\"none\")\n",
    "ax.set_title(\"Model Comparison (R²)\", fontsize=14, weight=\"bold\")\n",
    "ax.set_xlabel(\"\")\n",
    "ax.set_ylabel(\"R² Score\")\n",
    "ax.bar_label(ax.containers[0], fmt=\"%.3f\", padding=4, fontsize=10)\n",
    "sns.despine(left=True)\n",
    "plt.tight_layout()\n",
    "\n",
    "fig, ax = plt.subplots(figsize=(8, 5))\n",
    "sns.barplot(data=results_df, x=\"Model\", y=\"MAE ($)\", palette=palette, ax=ax, edgecolor=\"none\")\n",
    "ax.set_title(\"Model Comparison (MAE)\", fontsize=14, weight=\"bold\")\n",
    "ax.set_xlabel(\"\")\n",
    "ax.set_ylabel(\"Mean Absolute Error (USD)\")\n",
    "ax.bar_label(ax.containers[0], fmt=\"${:,.0f}\".format, padding=4, fontsize=10)\n",
    "sns.despine(left=True)\n",
    "plt.tight_layout()"
   ]
  },
  {
   "cell_type": "markdown",
   "id": "041aeeb8",
   "metadata": {},
   "source": [
    "## Conclusion\n",
    "We compare:\n",
    "- Linear Regression: baseline performance\n",
    "- Random Forest: flexible, non-linear model\n",
    "- Gradient Boosting: usually strong performance on tabular data\n",
    "\n",
    "The best model is chosen based on highest R² and lowest MAE/RMSE."
   ]
  }
 ],
 "metadata": {
  "kernelspec": {
   "display_name": "base",
   "language": "python",
   "name": "python3"
  },
  "language_info": {
   "codemirror_mode": {
    "name": "ipython",
    "version": 3
   },
   "file_extension": ".py",
   "mimetype": "text/x-python",
   "name": "python",
   "nbconvert_exporter": "python",
   "pygments_lexer": "ipython3",
   "version": "3.12.3"
  }
 },
 "nbformat": 4,
 "nbformat_minor": 5
}
